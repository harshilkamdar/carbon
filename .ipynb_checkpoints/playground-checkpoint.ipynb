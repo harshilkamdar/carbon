{
 "cells": [
  {
   "cell_type": "code",
   "execution_count": 9,
   "metadata": {},
   "outputs": [],
   "source": [
    "import numpy as np\n",
    "import matplotlib.pyplot as plt\n",
    "from astropy import units as u \n",
    "from math import radians, degrees, sin, cos, asin, acos, sqrt\n",
    "from opencage.geocoder import OpenCageGeocode\n",
    "from tqdm import tqdm_notebook as tqdm\n",
    "import pandas as pd\n",
    "import requests\n",
    "from geopy.distance import great_circle\n",
    "import pickle\n",
    "\n",
    "plt.style.use(\"../harsh\")"
   ]
  },
  {
   "cell_type": "code",
   "execution_count": 22,
   "metadata": {},
   "outputs": [],
   "source": [
    "def gc(lon1, lat1, lon2, lat2):\n",
    "    return great_circle((lat1, lon1), (lat2, lon2)).kilometers\n",
    "\n",
    "vc_great_circle = np.vectorize(gc)"
   ]
  },
  {
   "cell_type": "code",
   "execution_count": 3,
   "metadata": {},
   "outputs": [],
   "source": [
    "def carbon_simple_air_travel(travel_distance, travel_class=\"econ\"):\n",
    "    \"\"\"\n",
    "    simple calculator based on https://pics.uvic.ca/sites/default/files/AirTravelWP_FINAL.pdf. \n",
    "    takes in travel_distance [km, float] and travel_class [string]\n",
    "    returns carbon emissions in [kg]\n",
    "    \"\"\"\n",
    "    scaled_distance = 1.08*travel_distance #account for rerouting, holds, etc.\n",
    "    \n",
    "    if(scaled_distance < 463):\n",
    "        return 0.27867*scaled_distance\n",
    "    \n",
    "    elif(scaled_distance < 3700):\n",
    "        if(travel_class == \"econ\"):\n",
    "            return 0.16508*scaled_distance\n",
    "        else: \n",
    "            return 0.24761*scaled_distance \n",
    "    \n",
    "    else:\n",
    "        if(travel_class == \"econ\"):\n",
    "            return 0.14678*scaled_distance\n",
    "        elif(travel_class == \"econ_plus\"):\n",
    "            return 0.23484*scaled_distance\n",
    "        else: \n",
    "            return 0.42565*scaled_distance"
   ]
  },
  {
   "cell_type": "code",
   "execution_count": 4,
   "metadata": {},
   "outputs": [],
   "source": [
    "def return_latlon(place):\n",
    "    response = requests.get('https://maps.googleapis.com/maps/api/geocode/json?address=%s&key=%s'%(place, gmaps_api_key))\n",
    "    resp_json_payload = response.json()\n",
    "    results = resp_json_payload['results']\n",
    "    if(len(results) == 0):\n",
    "        return None\n",
    "    else:\n",
    "        lat = results[0]['geometry']['location']['lat']\n",
    "        lng = results[0]['geometry']['location']['lng']\n",
    "        return lat, lng"
   ]
  },
  {
   "cell_type": "code",
   "execution_count": 5,
   "metadata": {},
   "outputs": [],
   "source": [
    "df = pd.read_csv(\"iau.csv\")\n",
    "df = df.fillna(\" \")\n",
    "inst = np.array(df['Institute'].values, dtype='str')\n",
    "country = np.array(df['Country'].values, dtype='str')"
   ]
  },
  {
   "cell_type": "code",
   "execution_count": 6,
   "metadata": {},
   "outputs": [],
   "source": [
    "unique_insts, idxs, counts = np.unique(inst, return_counts=True, return_index=True)"
   ]
  },
  {
   "cell_type": "code",
   "execution_count": 7,
   "metadata": {},
   "outputs": [
    {
     "data": {
      "text/plain": [
       "'\\nfails = 0 \\nall_inst_latlons = np.zeros((len(unique_insts), 2))\\nfor i in tqdm(range(len(unique_insts))):\\n    try:\\n        all_inst_latlons[i,0], all_inst_latlons[i,1] = return_latlon(unique_insts[i])\\n    except:\\n        print(\"%s DOESN\\'T EXIST\" % unique_insts[i])\\n        fails += 1\\n        all_inst_latlons[i,0], all_inst_latlons[i,1] = np.nan, np.nan\\n'"
      ]
     },
     "execution_count": 7,
     "metadata": {},
     "output_type": "execute_result"
    }
   ],
   "source": [
    "gmaps_api_key = \"YOUR_API_KEY\"\n",
    "\"\"\"\n",
    "fails = 0 \n",
    "all_inst_latlons = np.zeros((len(unique_insts), 2))\n",
    "for i in tqdm(range(len(unique_insts))):\n",
    "    try:\n",
    "        all_inst_latlons[i,0], all_inst_latlons[i,1] = return_latlon(unique_insts[i])\n",
    "    except:\n",
    "        print(\"%s DOESN'T EXIST\" % unique_insts[i])\n",
    "        fails += 1\n",
    "        all_inst_latlons[i,0], all_inst_latlons[i,1] = np.nan, np.nan\n",
    "\"\"\"\n"
   ]
  },
  {
   "cell_type": "code",
   "execution_count": 11,
   "metadata": {},
   "outputs": [],
   "source": [
    "#inst_dict = dict(zip(unique_insts, all_inst_latlons))\n",
    "inst_dict = pickle.load(open(\"institute_latlon.pkl\", \"rb\"))"
   ]
  },
  {
   "cell_type": "code",
   "execution_count": 12,
   "metadata": {},
   "outputs": [
    {
     "data": {
      "application/vnd.jupyter.widget-view+json": {
       "model_id": "abf2713129c74ba3a225299cd1f3b061",
       "version_major": 2,
       "version_minor": 0
      },
      "text/plain": [
       "HBox(children=(IntProgress(value=0, max=3071), HTML(value='')))"
      ]
     },
     "metadata": {},
     "output_type": "display_data"
    },
    {
     "name": "stdout",
     "output_type": "stream",
     "text": [
      "\n"
     ]
    }
   ],
   "source": [
    "all_attendee_latlons = np.zeros((len(inst), 2))\n",
    "flag_nan = np.zeros((len(inst)))\n",
    "for i in tqdm(range(len(inst))):\n",
    "    all_attendee_latlons[i] = inst_dict[inst[i]]\n",
    "    if(np.isnan(inst_dict[inst[i]][0])):\n",
    "        flag_nan[i] = 1"
   ]
  },
  {
   "cell_type": "code",
   "execution_count": 13,
   "metadata": {},
   "outputs": [],
   "source": [
    "nan_flag = flag_nan == 0\n",
    "final_insts = inst[nan_flag]\n",
    "final_countries = country[nan_flag]\n",
    "final_latlons = all_attendee_latlons[nan_flag]"
   ]
  },
  {
   "cell_type": "code",
   "execution_count": 14,
   "metadata": {},
   "outputs": [],
   "source": [
    "def choose_attendees(number_attendees, proportion_north_american=0.9):\n",
    "    p = np.zeros(len(final_countries))\n",
    "    number_north_america = len(final_countries[(final_countries == \"United States\") | (final_countries == \"Canada\") | (final_countries == \"Mexico\")])\n",
    "    number_world = len(final_countries) - number_north_america\n",
    "    for i in range(len(final_countries)):\n",
    "        if(final_countries[i] == \"United States\" or final_countries[i] == \"Canada\" or final_countries[i] == \"Mexico\"):\n",
    "            p[i] = proportion_north_american/number_north_america\n",
    "        else:\n",
    "            p[i] = (1.0 - proportion_north_american)/number_world\n",
    "\n",
    "    choice_attendees = np.random.choice(np.arange(len(final_countries)), number_attendees, p=p)\n",
    "    return choice_attendees"
   ]
  },
  {
   "cell_type": "code",
   "execution_count": 30,
   "metadata": {},
   "outputs": [],
   "source": [
    "honolulu_lat = 21.3069\n",
    "honolulu_lon = -157.8583\n",
    "ny_lat = 40.7128\n",
    "ny_lon = -74.0060"
   ]
  },
  {
   "cell_type": "code",
   "execution_count": 42,
   "metadata": {},
   "outputs": [],
   "source": [
    "def calculate_carbon_footprint_dumb(number_of_people, conference_location, proportion_north_american=0.9):\n",
    "    choose_attendee_locs = final_latlons[choose_attendees(number_of_people, proportion_north_american=proportion_north_american)]\n",
    "    all_distances = vc_great_circle(choose_attendee_locs[:,1], choose_attendee_locs[:,0], conference_location[0], conference_location[1])*2 \n",
    "    \n",
    "    \n",
    "    s = 0\n",
    "    \n",
    "    for i in tqdm(range(len(all_distances))):\n",
    "        s += carbon_simple_air_travel(all_distances[i])\n",
    "    \n",
    "    return s, choose_attendee_locs, all_distances "
   ]
  },
  {
   "cell_type": "code",
   "execution_count": 56,
   "metadata": {},
   "outputs": [
    {
     "data": {
      "application/vnd.jupyter.widget-view+json": {
       "model_id": "e4d3c8f12d964bdaaccc43443ea05593",
       "version_major": 2,
       "version_minor": 0
      },
      "text/plain": [
       "HBox(children=(IntProgress(value=0, max=2500), HTML(value='')))"
      ]
     },
     "metadata": {},
     "output_type": "display_data"
    },
    {
     "name": "stdout",
     "output_type": "stream",
     "text": [
      "\n"
     ]
    }
   ],
   "source": [
    "a, c, _ = calculate_carbon_footprint_dumb(2500, [honolulu_lon, honolulu_lat], proportion_north_american=0.9)"
   ]
  },
  {
   "cell_type": "code",
   "execution_count": 58,
   "metadata": {},
   "outputs": [
    {
     "data": {
      "text/plain": [
       "array([[  34.068921 , -118.4451811],\n",
       "       [  33.4242399, -111.9280527],\n",
       "       [  43.6606173,  -79.3973224],\n",
       "       [  38.0335529,  -78.5079772],\n",
       "       [  37.4088478, -122.0644229],\n",
       "       [  19.823819 , -155.4689039],\n",
       "       [  42.3814452,  -71.1281079],\n",
       "       [  41.6626963,  -91.5548998],\n",
       "       [  36.9880503, -122.0582093],\n",
       "       [  33.4242399, -111.9280527],\n",
       "       [  40.8075355,  -73.9625727],\n",
       "       [  48.7816472,    9.1724985],\n",
       "       [  22.4195827,  114.2067604],\n",
       "       [  39.0808594, -108.5543371],\n",
       "       [  33.4242399, -111.9280527],\n",
       "       [  38.9869183,  -76.9425543],\n",
       "       [  39.3327283,  -76.6232773],\n",
       "       [  41.3163244,  -72.9223431],\n",
       "       [  40.7982133,  -77.8599084],\n",
       "       [  34.1376576, -118.125269 ],\n",
       "       [  39.986913 ,  116.3058739],\n",
       "       [ -35.2776999,  149.118527 ],\n",
       "       [  19.7035407, -155.0900986],\n",
       "       [  36.1447034,  -86.8026551],\n",
       "       [  43.0095971,  -81.2737336],\n",
       "       [  43.0756178,  -89.4051917],\n",
       "       [  34.1376576, -118.125269 ],\n",
       "       [  19.332465 ,  -99.1847825],\n",
       "       [  21.3071919, -157.8116139],\n",
       "       [  20.0195282, -155.6720255],\n",
       "       [  30.2849185,  -97.7340567],\n",
       "       [  34.2013081, -118.1713944],\n",
       "       [  56.3417136,   -2.7942674],\n",
       "       [  42.0576639,  -87.6758349],\n",
       "       [  38.8500391,  -91.9544836],\n",
       "       [  40.8075355,  -73.9625727],\n",
       "       [  32.2764635, -106.7549406],\n",
       "       [  40.754148 ,  -73.981859 ],\n",
       "       [  34.2013081, -118.1713944],\n",
       "       [  38.9566109,  -95.2483829],\n",
       "       [  44.943096 ,  -93.1897082],\n",
       "       [  30.6798048, -104.0248334],\n",
       "       [  37.4088478, -122.0644229],\n",
       "       [  21.296939 , -157.8171118],\n",
       "       [  42.7129581,  -73.2036396],\n",
       "       [  38.0369391,  -78.5178361],\n",
       "       [  38.9030183,  -77.0381339],\n",
       "       [  43.6606173,  -79.3973224],\n",
       "       [  42.3814329,  -71.1280685],\n",
       "       [  38.9368811,  -76.998692 ],\n",
       "       [  38.9216743,  -77.0668837],\n",
       "       [  38.0369391,  -78.5178361],\n",
       "       [  32.7095936,  -97.3635602],\n",
       "       [  39.3327283,  -76.6232773],\n",
       "       [  32.7872786, -105.8205359],\n",
       "       [  44.9378927,  -93.1690434],\n",
       "       [  19.3260627,  -99.1778409],\n",
       "       [  38.9955412,  -76.8524334],\n",
       "       [  40.007581 , -105.2659417],\n",
       "       [  38.9216743,  -77.0668837],\n",
       "       [  38.8831039,  -77.0173014],\n",
       "       [  40.8090974,  -73.9639632],\n",
       "       [  36.1315252,  -95.8190675],\n",
       "       [  38.8831039,  -77.0173014],\n",
       "       [  38.9090647,  -77.0369861],\n",
       "       [  20.0195282, -155.6720255],\n",
       "       [  44.97399  ,  -93.2277285],\n",
       "       [  38.0369391,  -78.5178361],\n",
       "       [  39.3327283,  -76.6232773],\n",
       "       [  34.1376576, -118.125269 ],\n",
       "       [  38.0369391,  -78.5178361],\n",
       "       [  40.7482596,  -73.9828835],\n",
       "       [  21.0170713, -101.2535142],\n",
       "       [  44.943096 ,  -93.1897082],\n",
       "       [  42.2780436,  -83.7382241],\n",
       "       [  40.4428783,  -79.9429318],\n",
       "       [  34.1376576, -118.125269 ],\n",
       "       [  34.1376576, -118.125269 ],\n",
       "       [  43.6606173,  -79.3973224],\n",
       "       [  32.7095936,  -97.3635602],\n",
       "       [  30.2849185,  -97.7340567],\n",
       "       [  40.8075355,  -73.9625727],\n",
       "       [  39.3327283,  -76.6232773],\n",
       "       [  46.7817463,  -71.2747424],\n",
       "       [  39.3328629,  -82.0452633],\n",
       "       [  38.80142  ,  -77.0704385],\n",
       "       [  38.8997145,  -77.0485992],\n",
       "       [  29.189816 ,  -81.0484081],\n",
       "       [  45.4872207,  -73.672806 ],\n",
       "       [  40.8075355,  -73.9625727],\n",
       "       [  26.1543199,   91.6631679],\n",
       "       [  37.3862822, -122.0514855],\n",
       "       [  42.3607496,  -71.0931251],\n",
       "       [  42.3814452,  -71.1281079],\n",
       "       [  44.5892119,  -75.1608814],\n",
       "       [  43.0095971,  -81.2737336],\n",
       "       [  36.6780004,  138.2339843],\n",
       "       [  42.4565003,  -71.3580624],\n",
       "       [  36.9853543,  -86.456138 ],\n",
       "       [  32.7298718,  -97.1140116]])"
      ]
     },
     "execution_count": 58,
     "metadata": {},
     "output_type": "execute_result"
    }
   ],
   "source": [
    "c[0:100]"
   ]
  },
  {
   "cell_type": "code",
   "execution_count": null,
   "metadata": {},
   "outputs": [],
   "source": [
    "al"
   ]
  }
 ],
 "metadata": {
  "kernelspec": {
   "display_name": "Python 3",
   "language": "python",
   "name": "python3"
  },
  "language_info": {
   "codemirror_mode": {
    "name": "ipython",
    "version": 3
   },
   "file_extension": ".py",
   "mimetype": "text/x-python",
   "name": "python",
   "nbconvert_exporter": "python",
   "pygments_lexer": "ipython3",
   "version": "3.7.1"
  }
 },
 "nbformat": 4,
 "nbformat_minor": 2
}
