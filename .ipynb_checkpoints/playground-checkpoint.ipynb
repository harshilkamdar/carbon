{
 "cells": [
  {
   "cell_type": "code",
   "execution_count": 41,
   "metadata": {},
   "outputs": [],
   "source": [
    "import numpy as np\n",
    "import matplotlib.pyplot as plt\n",
    "from astropy import units as u \n",
    "from math import radians, degrees, sin, cos, asin, acos, sqrt\n",
    "from opencage.geocoder import OpenCageGeocode\n",
    "from tqdm import tqdm_notebook as tqdm\n",
    "\n",
    "plt.style.use(\"../harsh\")"
   ]
  },
  {
   "cell_type": "code",
   "execution_count": 11,
   "metadata": {},
   "outputs": [],
   "source": [
    "def great_circle(lon1, lat1, lon2, lat2):\n",
    "    lon1, lat1, lon2, lat2 = map(radians, [lon1, lat1, lon2, lat2])    \n",
    "    return 6371 * (acos(sin(lat1) * sin(lat2) + cos(lat1) * cos(lat2) * cos(lon1 - lon2)))\n"
   ]
  },
  {
   "cell_type": "code",
   "execution_count": 15,
   "metadata": {},
   "outputs": [],
   "source": [
    "def carbon_simple(travel_distance, travel_class=\"econ\"):\n",
    "    \"\"\"\n",
    "    simple calculator based on https://pics.uvic.ca/sites/default/files/AirTravelWP_FINAL.pdf. \n",
    "    takes in travel_distance [km, float] and travel_class [string]\n",
    "    returns carbon emissions in [kg]\n",
    "    \"\"\"\n",
    "    scaled_distance = 1.08*travel_distance #account for rerouting, holds, etc.\n",
    "    \n",
    "    if(scaled_distance < 463):\n",
    "        return 0.27867*scaled_distance\n",
    "    \n",
    "    elif(scaled_distance < 3700):\n",
    "        if(travel_class == \"econ\"):\n",
    "            return 0.16508*scaled_distance\n",
    "        else: \n",
    "            return 0.24761*scaled_distance \n",
    "    \n",
    "    else:\n",
    "        if(travel_class == \"econ\"):\n",
    "            return 0.14678*scaled_distance\n",
    "        elif(travel_class == \"econ_plus\"):\n",
    "            return 0.23484*scaled_distance\n",
    "        else: \n",
    "            return 0.42565*scaled_distance"
   ]
  },
  {
   "cell_type": "code",
   "execution_count": 14,
   "metadata": {},
   "outputs": [
    {
     "data": {
      "text/plain": [
       "7981.775257299233"
      ]
     },
     "execution_count": 14,
     "metadata": {},
     "output_type": "execute_result"
    }
   ],
   "source": [
    "great_circle(74.0060, 40.7128, 157.8583, 21.3069)"
   ]
  },
  {
   "cell_type": "code",
   "execution_count": 16,
   "metadata": {},
   "outputs": [
    {
     "data": {
      "text/plain": [
       "1265.290170047692"
      ]
     },
     "execution_count": 16,
     "metadata": {},
     "output_type": "execute_result"
    }
   ],
   "source": [
    "carbon_simple(7981.775257299233)"
   ]
  },
  {
   "cell_type": "code",
   "execution_count": 18,
   "metadata": {},
   "outputs": [],
   "source": [
    "from opencage.geocoder import OpenCageGeocode\n",
    "key = '46537db450f7457081cb31409f2a9ee5'  # get api key from:  https://opencagedata.com\n",
    "geocoder = OpenCageGeocode(key)\n",
    "query = 'University of Arizona'  \n",
    "results = geocoder.geocode(query)"
   ]
  },
  {
   "cell_type": "code",
   "execution_count": 28,
   "metadata": {},
   "outputs": [],
   "source": [
    "unis = np.loadtxt(\"unis\", dtype=\"str\", delimiter=\"/n\")"
   ]
  },
  {
   "cell_type": "code",
   "execution_count": 37,
   "metadata": {},
   "outputs": [],
   "source": [
    "api_key = '46537db450f7457081cb31409f2a9ee5'  # get api key from:  https://opencagedata.com"
   ]
  },
  {
   "cell_type": "code",
   "execution_count": 38,
   "metadata": {},
   "outputs": [],
   "source": [
    "def return_latlon(uni):\n",
    "    geocoder = OpenCageGeocode(api_key)\n",
    "    query = uni\n",
    "    results = geocoder.geocode(query)\n",
    "    if(len(results) == 0):\n",
    "        return None\n",
    "    else:\n",
    "        lat = results[0]['geometry']['lat']\n",
    "        lng = results[0]['geometry']['lng']\n",
    "        return lat, lng"
   ]
  },
  {
   "cell_type": "code",
   "execution_count": 45,
   "metadata": {},
   "outputs": [
    {
     "data": {
      "application/vnd.jupyter.widget-view+json": {
       "model_id": "6d9703a8bb4b48f6b3de1a61f72cee14",
       "version_major": 2,
       "version_minor": 0
      },
      "text/plain": [
       "HBox(children=(IntProgress(value=0, max=73), HTML(value='')))"
      ]
     },
     "metadata": {},
     "output_type": "display_data"
    },
    {
     "name": "stdout",
     "output_type": "stream",
     "text": [
      "Columbia UUniversity DOESN'T EXIST\n",
      "New Mexico Institute Mining Tech DOESN'T EXIST\n",
      "University of Southern Mississippi - Masters Only DOESN'T EXIST\n"
     ]
    }
   ],
   "source": [
    "all_latlons = np.zeros((len(unis), 2))\n",
    "for i in tqdm(range(len(unis))):\n",
    "    try:\n",
    "        all_latlons[i,0], all_latlons[i,1] = return_latlon(unis[i])\n",
    "    except:\n",
    "        print(\"%s DOESN'T EXIST\" % unis[i])\n",
    "        all_latlons[i,0], all_latlons[i,1] = np.nan, np.nan"
   ]
  },
  {
   "cell_type": "code",
   "execution_count": 40,
   "metadata": {},
   "outputs": [
    {
     "data": {
      "text/plain": [
       "'Boston University'"
      ]
     },
     "execution_count": 40,
     "metadata": {},
     "output_type": "execute_result"
    }
   ],
   "source": []
  },
  {
   "cell_type": "code",
   "execution_count": null,
   "metadata": {},
   "outputs": [],
   "source": []
  }
 ],
 "metadata": {
  "kernelspec": {
   "display_name": "Python 3",
   "language": "python",
   "name": "python3"
  },
  "language_info": {
   "codemirror_mode": {
    "name": "ipython",
    "version": 3
   },
   "file_extension": ".py",
   "mimetype": "text/x-python",
   "name": "python",
   "nbconvert_exporter": "python",
   "pygments_lexer": "ipython3",
   "version": "3.7.1"
  }
 },
 "nbformat": 4,
 "nbformat_minor": 2
}
