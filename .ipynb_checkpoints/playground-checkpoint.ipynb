{
 "cells": [
  {
   "cell_type": "code",
   "execution_count": 73,
   "metadata": {},
   "outputs": [],
   "source": [
    "import numpy as np\n",
    "import matplotlib.pyplot as plt\n",
    "from astropy import units as u \n",
    "from math import radians, degrees, sin, cos, asin, acos, sqrt\n",
    "from opencage.geocoder import OpenCageGeocode\n",
    "from tqdm import tqdm_notebook as tqdm\n",
    "\n",
    "plt.style.use(\"../harsh\")"
   ]
  },
  {
   "cell_type": "code",
   "execution_count": 14,
   "metadata": {},
   "outputs": [],
   "source": [
    "def great_circle(lon1, lat1, lon2, lat2):\n",
    "    lon1, lat1, lon2, lat2 = map(radians, [lon1, lat1, lon2, lat2])    \n",
    "    return 6371 * (acos(sin(lat1) * sin(lat2) + cos(lat1) * cos(lat2) * cos(lon1 - lon2)))\n",
    "\n",
    "vc_great_circle = np.vectorize(great_circle)"
   ]
  },
  {
   "cell_type": "code",
   "execution_count": 3,
   "metadata": {},
   "outputs": [],
   "source": [
    "def carbon_simple(travel_distance, travel_class=\"econ\"):\n",
    "    \"\"\"\n",
    "    simple calculator based on https://pics.uvic.ca/sites/default/files/AirTravelWP_FINAL.pdf. \n",
    "    takes in travel_distance [km, float] and travel_class [string]\n",
    "    returns carbon emissions in [kg]\n",
    "    \"\"\"\n",
    "    scaled_distance = 1.08*travel_distance #account for rerouting, holds, etc.\n",
    "    \n",
    "    if(scaled_distance < 463):\n",
    "        return 0.27867*scaled_distance\n",
    "    \n",
    "    elif(scaled_distance < 3700):\n",
    "        if(travel_class == \"econ\"):\n",
    "            return 0.16508*scaled_distance\n",
    "        else: \n",
    "            return 0.24761*scaled_distance \n",
    "    \n",
    "    else:\n",
    "        if(travel_class == \"econ\"):\n",
    "            return 0.14678*scaled_distance\n",
    "        elif(travel_class == \"econ_plus\"):\n",
    "            return 0.23484*scaled_distance\n",
    "        else: \n",
    "            return 0.42565*scaled_distance"
   ]
  },
  {
   "cell_type": "code",
   "execution_count": 7,
   "metadata": {},
   "outputs": [],
   "source": [
    "unis = np.loadtxt(\"unis\", dtype=\"str\", delimiter=\"/n\")"
   ]
  },
  {
   "cell_type": "code",
   "execution_count": 8,
   "metadata": {},
   "outputs": [],
   "source": [
    "api_key = '46537db450f7457081cb31409f2a9ee5'  # get api key from:  https://opencagedata.com"
   ]
  },
  {
   "cell_type": "code",
   "execution_count": 9,
   "metadata": {},
   "outputs": [],
   "source": [
    "def return_latlon(uni):\n",
    "    geocoder = OpenCageGeocode(api_key)\n",
    "    query = uni\n",
    "    results = geocoder.geocode(query)\n",
    "    if(len(results) == 0):\n",
    "        return None\n",
    "    else:\n",
    "        lat = results[0]['geometry']['lat']\n",
    "        lng = results[0]['geometry']['lng']\n",
    "        return lat, lng"
   ]
  },
  {
   "cell_type": "code",
   "execution_count": 10,
   "metadata": {},
   "outputs": [
    {
     "data": {
      "application/vnd.jupyter.widget-view+json": {
       "model_id": "07fd5566b3bc4586ab626a33651eb389",
       "version_major": 2,
       "version_minor": 0
      },
      "text/plain": [
       "HBox(children=(IntProgress(value=0, max=72), HTML(value='')))"
      ]
     },
     "metadata": {},
     "output_type": "display_data"
    },
    {
     "name": "stdout",
     "output_type": "stream",
     "text": [
      "\n"
     ]
    }
   ],
   "source": [
    "all_uni_latlons = np.zeros((len(unis), 2))\n",
    "for i in tqdm(range(len(unis))):\n",
    "    try:\n",
    "        all_uni_latlons[i,0], all_uni_latlons[i,1] = return_latlon(unis[i])\n",
    "    except:\n",
    "        print(\"%s DOESN'T EXIST\" % unis[i])\n",
    "        all_uni_latlons[i,0], all_uni_latlons[i,1] = np.nan, np.nan"
   ]
  },
  {
   "cell_type": "code",
   "execution_count": 51,
   "metadata": {},
   "outputs": [],
   "source": [
    "honolulu_lat = 21.3069\n",
    "honolulu_lon = 157.8583"
   ]
  },
  {
   "cell_type": "code",
   "execution_count": 74,
   "metadata": {},
   "outputs": [],
   "source": [
    "def calculate_carbon_footprint(number_of_people, conference_location):\n",
    "    choose_attendee_locs = all_latlons[np.random.choice(len(all_uni_latlons), number_of_people)]\n",
    "    all_distances = vc_great_circle(choose_attendee_locs[:,1], choose_attendee_locs[:,0], honolulu_lon, honolulu_lat)*2 \n",
    "\n",
    "    s = 0\n",
    "    for i in tqdm(range(len(all_distances))):\n",
    "        s += carbon_simple(all_distances[i])\n",
    "    \n",
    "    return s"
   ]
  },
  {
   "cell_type": "code",
   "execution_count": null,
   "metadata": {},
   "outputs": [],
   "source": []
  }
 ],
 "metadata": {
  "kernelspec": {
   "display_name": "Python 3",
   "language": "python",
   "name": "python3"
  },
  "language_info": {
   "codemirror_mode": {
    "name": "ipython",
    "version": 3
   },
   "file_extension": ".py",
   "mimetype": "text/x-python",
   "name": "python",
   "nbconvert_exporter": "python",
   "pygments_lexer": "ipython3",
   "version": "3.7.1"
  }
 },
 "nbformat": 4,
 "nbformat_minor": 2
}
