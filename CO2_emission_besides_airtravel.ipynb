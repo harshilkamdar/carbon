{
 "cells": [
  {
   "cell_type": "markdown",
   "metadata": {},
   "source": [
    "# Carbon Footprint besides airtravel\n",
    "Brainstorm on what else might cause CO2 emission at a conferences:\n",
    " - **Airconditioning / Heating**, depending on where the conference takes place at what time of the year:\n",
    "   - get average day time temperature\n",
    "   - calculate necessary energy to heat or cool from outside temperature to room temperature (20 deg celcius = 68 deg Fahrenheit)\n",
    "   - learn about the Carbon Footprint for this amount of energy\n",
    " - **Energy for Laptops**\n",
    "   - How much enegery does a laptop need to be up and running for the 8h conference day. \n",
    "   - \n",
    " - **Energy for hotel cleaning**\n",
    "   - washing towels on average every day vs every other day\n",
    " - **Waste from Catering**\n",
    "   - Assume two coffee breaks and one lunch break a day.\n",
    "   - Compare energy cosumption of \n",
    "     - production of single-use cups/plates/cutlery vs.\n",
    "     - multiple use cups/plates/cutlery, which are cleaned after every break.\n",
    "    as a function of the number of attendees (every attendee will use on average one cup per coffee break and lunch break, one plate + cutlery per lunch break. \n",
    " - **Paper usage for note taking**\n",
    " \n",
    "This should be compared to Carbon Footprints of other instances:\n",
    " - get yearly carbon footprint of countries around the world\n",
    " - get yearly carbon footprint of single and family housholds around the world "
   ]
  },
  {
   "cell_type": "code",
   "execution_count": null,
   "metadata": {},
   "outputs": [],
   "source": []
  }
 ],
 "metadata": {
  "kernelspec": {
   "display_name": "Python 3",
   "language": "python",
   "name": "python3"
  },
  "language_info": {
   "codemirror_mode": {
    "name": "ipython",
    "version": 3
   },
   "file_extension": ".py",
   "mimetype": "text/x-python",
   "name": "python",
   "nbconvert_exporter": "python",
   "pygments_lexer": "ipython3",
   "version": "3.6.8"
  }
 },
 "nbformat": 4,
 "nbformat_minor": 2
}
