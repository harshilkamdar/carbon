{
 "cells": [
  {
   "cell_type": "markdown",
   "metadata": {},
   "source": [
    "# Carbon Footprint besides airtravel\n",
    "Brainstorm on what else might cause CO2 emission at a conferences:\n",
    " - **Airconditioning / Heating**, depending on where the conference takes place at what time of the year:\n",
    "   - get average day time temperature.\n",
    "   - calculate necessary energy to heat or cool a lecture theatre from outside temperature to room temperature (20 deg celcius = 68 deg Fahrenheit).\n",
    " - **Energy for Laptops**\n",
    "   - How much enegery does a laptop need to be up and running for the 8h conference day. \n",
    "   - Make different assumptions on how many people will have their laptop running at any given time. \n",
    " - **Energy for hotel cleaning**\n",
    "   - washing towels on average every day vs every other day. \n",
    "   - vacuum cleaning a 15m$^2$ room every day. \n",
    "   - make assumptions on how many people share rooms and how many have single rooms.\n",
    " - **Catering**\n",
    "   - Assume two coffee breaks and one lunch break a day.\n",
    "   - Compare energy cosumption of as a function of the number of attendees (every attendee will use on average one cup per coffee break and lunch break, one plate + cutlery per lunch break). \n",
    "     - production of single-use cups/plates/cutlery vs.\n",
    "     - multiple use cups/plates/cutlery, which are cleaned after every break.\n",
    "   - Plant based vs. more meat based diets? \n",
    " - **Paper usage**\n",
    "    - How much energy goes into paper production for print programs?\n",
    "    - How much energy goes into printing program booklets?\n",
    "    - How many trees are needed to produce the paper and how much CO2 could they compensate for. How does recycling paper compare to \"fresh\" paper?\n",
    "    - What about paper for taking notes? Make assumptions on how many people take notes and how much paper they need.\n",
    " - **Energy Production**\n",
    "    - Differences between different engery sources: Renewables (wind, water, solar), nuclear, coal.\n",
    "\n",
    "This should be compared to Carbon Footprints of other instances:\n",
    " - get yearly carbon footprint of countries around the world\n",
    " - get yearly carbon footprint of single and family housholds around the world "
   ]
  },
  {
   "cell_type": "code",
   "execution_count": null,
   "metadata": {},
   "outputs": [],
   "source": []
  }
 ],
 "metadata": {
  "kernelspec": {
   "display_name": "Python 3",
   "language": "python",
   "name": "python3"
  },
  "language_info": {
   "codemirror_mode": {
    "name": "ipython",
    "version": 3
   },
   "file_extension": ".py",
   "mimetype": "text/x-python",
   "name": "python",
   "nbconvert_exporter": "python",
   "pygments_lexer": "ipython3",
   "version": "3.6.8"
  }
 },
 "nbformat": 4,
 "nbformat_minor": 2
}
