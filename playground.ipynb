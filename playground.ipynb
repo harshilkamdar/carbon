{
 "cells": [
  {
   "cell_type": "code",
   "execution_count": 9,
   "metadata": {},
   "outputs": [],
   "source": [
    "import numpy as np\n",
    "import matplotlib.pyplot as plt\n",
    "from astropy import units as u \n",
    "from math import radians, degrees, sin, cos, asin, acos, sqrt\n",
    "from opencage.geocoder import OpenCageGeocode\n",
    "from tqdm import tqdm_notebook as tqdm\n",
    "import pandas as pd\n",
    "import requests\n",
    "from geopy.distance import great_circle\n",
    "import pickle\n",
    "\n",
    "plt.style.use(\"../harsh\")"
   ]
  },
  {
   "cell_type": "code",
   "execution_count": 22,
   "metadata": {},
   "outputs": [],
   "source": [
    "def gc(lon1, lat1, lon2, lat2):\n",
    "    return great_circle((lat1, lon1), (lat2, lon2)).kilometers\n",
    "\n",
    "vc_great_circle = np.vectorize(gc)"
   ]
  },
  {
   "cell_type": "code",
   "execution_count": 3,
   "metadata": {},
   "outputs": [],
   "source": [
    "def carbon_simple_air_travel(travel_distance, travel_class=\"econ\"):\n",
    "    \"\"\"\n",
    "    simple calculator based on https://pics.uvic.ca/sites/default/files/AirTravelWP_FINAL.pdf. \n",
    "    takes in travel_distance [km, float] and travel_class [string]\n",
    "    returns carbon emissions in [kg]\n",
    "    \"\"\"\n",
    "    scaled_distance = 1.08*travel_distance #account for rerouting, holds, etc.\n",
    "    \n",
    "    if(scaled_distance < 463):\n",
    "        return 0.27867*scaled_distance\n",
    "    \n",
    "    elif(scaled_distance < 3700):\n",
    "        if(travel_class == \"econ\"):\n",
    "            return 0.16508*scaled_distance\n",
    "        else: \n",
    "            return 0.24761*scaled_distance \n",
    "    \n",
    "    else:\n",
    "        if(travel_class == \"econ\"):\n",
    "            return 0.14678*scaled_distance\n",
    "        elif(travel_class == \"econ_plus\"):\n",
    "            return 0.23484*scaled_distance\n",
    "        else: \n",
    "            return 0.42565*scaled_distance"
   ]
  },
  {
   "cell_type": "code",
   "execution_count": 4,
   "metadata": {},
   "outputs": [],
   "source": [
    "def return_latlon(place):\n",
    "    response = requests.get('https://maps.googleapis.com/maps/api/geocode/json?address=%s&key=%s'%(place, gmaps_api_key))\n",
    "    resp_json_payload = response.json()\n",
    "    results = resp_json_payload['results']\n",
    "    if(len(results) == 0):\n",
    "        return None\n",
    "    else:\n",
    "        lat = results[0]['geometry']['location']['lat']\n",
    "        lng = results[0]['geometry']['location']['lng']\n",
    "        return lat, lng"
   ]
  },
  {
   "cell_type": "code",
   "execution_count": 5,
   "metadata": {},
   "outputs": [],
   "source": [
    "df = pd.read_csv(\"iau.csv\")\n",
    "df = df.fillna(\" \")\n",
    "inst = np.array(df['Institute'].values, dtype='str')\n",
    "country = np.array(df['Country'].values, dtype='str')"
   ]
  },
  {
   "cell_type": "code",
   "execution_count": 6,
   "metadata": {},
   "outputs": [],
   "source": [
    "unique_insts, idxs, counts = np.unique(inst, return_counts=True, return_index=True)"
   ]
  },
  {
   "cell_type": "code",
   "execution_count": 7,
   "metadata": {},
   "outputs": [
    {
     "data": {
      "text/plain": [
       "'\\nfails = 0 \\nall_inst_latlons = np.zeros((len(unique_insts), 2))\\nfor i in tqdm(range(len(unique_insts))):\\n    try:\\n        all_inst_latlons[i,0], all_inst_latlons[i,1] = return_latlon(unique_insts[i])\\n    except:\\n        print(\"%s DOESN\\'T EXIST\" % unique_insts[i])\\n        fails += 1\\n        all_inst_latlons[i,0], all_inst_latlons[i,1] = np.nan, np.nan\\n'"
      ]
     },
     "execution_count": 7,
     "metadata": {},
     "output_type": "execute_result"
    }
   ],
   "source": [
    "gmaps_api_key = \"YOUR_API_KEY\"\n",
    "\"\"\"\n",
    "fails = 0 \n",
    "all_inst_latlons = np.zeros((len(unique_insts), 2))\n",
    "for i in tqdm(range(len(unique_insts))):\n",
    "    try:\n",
    "        all_inst_latlons[i,0], all_inst_latlons[i,1] = return_latlon(unique_insts[i])\n",
    "    except:\n",
    "        print(\"%s DOESN'T EXIST\" % unique_insts[i])\n",
    "        fails += 1\n",
    "        all_inst_latlons[i,0], all_inst_latlons[i,1] = np.nan, np.nan\n",
    "\"\"\"\n"
   ]
  },
  {
   "cell_type": "code",
   "execution_count": 11,
   "metadata": {},
   "outputs": [],
   "source": [
    "#inst_dict = dict(zip(unique_insts, all_inst_latlons))\n",
    "inst_dict = pickle.load(open(\"institute_latlon.pkl\", \"rb\"))"
   ]
  },
  {
   "cell_type": "code",
   "execution_count": 12,
   "metadata": {},
   "outputs": [
    {
     "data": {
      "application/vnd.jupyter.widget-view+json": {
       "model_id": "abf2713129c74ba3a225299cd1f3b061",
       "version_major": 2,
       "version_minor": 0
      },
      "text/plain": [
       "HBox(children=(IntProgress(value=0, max=3071), HTML(value='')))"
      ]
     },
     "metadata": {},
     "output_type": "display_data"
    },
    {
     "name": "stdout",
     "output_type": "stream",
     "text": [
      "\n"
     ]
    }
   ],
   "source": [
    "all_attendee_latlons = np.zeros((len(inst), 2))\n",
    "flag_nan = np.zeros((len(inst)))\n",
    "for i in tqdm(range(len(inst))):\n",
    "    all_attendee_latlons[i] = inst_dict[inst[i]]\n",
    "    if(np.isnan(inst_dict[inst[i]][0])):\n",
    "        flag_nan[i] = 1"
   ]
  },
  {
   "cell_type": "code",
   "execution_count": 13,
   "metadata": {},
   "outputs": [],
   "source": [
    "nan_flag = flag_nan == 0\n",
    "final_insts = inst[nan_flag]\n",
    "final_countries = country[nan_flag]\n",
    "final_latlons = all_attendee_latlons[nan_flag]"
   ]
  },
  {
   "cell_type": "code",
   "execution_count": 14,
   "metadata": {},
   "outputs": [],
   "source": [
    "def choose_attendees(number_attendees, proportion_north_american=0.9):\n",
    "    p = np.zeros(len(final_countries))\n",
    "    number_north_america = len(final_countries[(final_countries == \"United States\") | (final_countries == \"Canada\") | (final_countries == \"Mexico\")])\n",
    "    number_world = len(final_countries) - number_north_america\n",
    "    for i in range(len(final_countries)):\n",
    "        if(final_countries[i] == \"United States\" or final_countries[i] == \"Canada\" or final_countries[i] == \"Mexico\"):\n",
    "            p[i] = proportion_north_american/number_north_america\n",
    "        else:\n",
    "            p[i] = (1.0 - proportion_north_american)/number_world\n",
    "\n",
    "    choice_attendees = np.random.choice(np.arange(len(final_countries)), number_attendees, p=p)\n",
    "    return choice_attendees"
   ]
  },
  {
   "cell_type": "code",
   "execution_count": 30,
   "metadata": {},
   "outputs": [],
   "source": [
    "honolulu_lat = 21.3069\n",
    "honolulu_lon = -157.8583\n",
    "ny_lat = 40.7128\n",
    "ny_lon = -74.0060"
   ]
  },
  {
   "cell_type": "code",
   "execution_count": 31,
   "metadata": {},
   "outputs": [],
   "source": [
    "def calculate_carbon_footprint_dumb(number_of_people, conference_location, proportion_north_american=0.9):\n",
    "    choose_attendee_locs = final_latlons[choose_attendees(number_of_people, proportion_north_american=proportion_north_american)]\n",
    "    all_distances = vc_great_circle(choose_attendee_locs[:,1], choose_attendee_locs[:,0], conference_location[0], conference_location[1])*2 \n",
    "    \n",
    "    \n",
    "    s = 0\n",
    "    \n",
    "    print(all_distances)\n",
    "    for i in tqdm(range(len(all_distances))):\n",
    "        s += carbon_simple_air_travel(all_distances[i])\n",
    "    \n",
    "    return s"
   ]
  },
  {
   "cell_type": "code",
   "execution_count": 40,
   "metadata": {},
   "outputs": [
    {
     "name": "stdout",
     "output_type": "stream",
     "text": [
      "[12781.64234128 13665.94641463 15546.80159204 ... 16110.4890962\n",
      " 15593.12611136 15801.7726237 ]\n"
     ]
    },
    {
     "data": {
      "application/vnd.jupyter.widget-view+json": {
       "model_id": "2c07385ac6784e8b99e0aceceda7f7bf",
       "version_major": 2,
       "version_minor": 0
      },
      "text/plain": [
       "HBox(children=(IntProgress(value=0, max=2500), HTML(value='')))"
      ]
     },
     "metadata": {},
     "output_type": "display_data"
    },
    {
     "name": "stdout",
     "output_type": "stream",
     "text": [
      "\n"
     ]
    }
   ],
   "source": [
    "a = calculate_carbon_footprint_dumb(2500, [honolulu_lon, honolulu_lat], proportion_north_american=0.9)"
   ]
  },
  {
   "cell_type": "code",
   "execution_count": 41,
   "metadata": {},
   "outputs": [
    {
     "data": {
      "text/plain": [
       "4977.503522554537"
      ]
     },
     "execution_count": 41,
     "metadata": {},
     "output_type": "execute_result"
    }
   ],
   "source": [
    "a/1000"
   ]
  },
  {
   "cell_type": "code",
   "execution_count": null,
   "metadata": {},
   "outputs": [],
   "source": [
    "al"
   ]
  }
 ],
 "metadata": {
  "kernelspec": {
   "display_name": "Python 3",
   "language": "python",
   "name": "python3"
  },
  "language_info": {
   "codemirror_mode": {
    "name": "ipython",
    "version": 3
   },
   "file_extension": ".py",
   "mimetype": "text/x-python",
   "name": "python",
   "nbconvert_exporter": "python",
   "pygments_lexer": "ipython3",
   "version": "3.7.1"
  }
 },
 "nbformat": 4,
 "nbformat_minor": 2
}
